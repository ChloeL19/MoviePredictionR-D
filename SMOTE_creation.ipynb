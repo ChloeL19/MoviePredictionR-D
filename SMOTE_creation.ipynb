{
 "cells": [
  {
   "cell_type": "code",
   "execution_count": 15,
   "metadata": {
    "collapsed": false
   },
   "outputs": [
    {
     "name": "stdout",
     "output_type": "stream",
     "text": [
      "Collecting imblearn\n",
      "  Downloading https://files.pythonhosted.org/packages/81/a7/4179e6ebfd654bd0eac0b9c06125b8b4c96a9d0a8ff9e9507eb2a26d2d7e/imblearn-0.0-py2.py3-none-any.whl\n",
      "Collecting imbalanced-learn (from imblearn)\n",
      "\u001b[?25l  Downloading https://files.pythonhosted.org/packages/80/a4/900463a3c0af082aed9c5a43f4ec317a9469710c5ef80496c9abc26ed0ca/imbalanced_learn-0.3.3-py3-none-any.whl (144kB)\n",
      "\u001b[K    100% |████████████████████████████████| 153kB 1.4MB/s \n",
      "\u001b[?25hRequirement already satisfied: scipy in /Users/chloeloughridge/anaconda/lib/python3.5/site-packages (from imbalanced-learn->imblearn) (1.1.0)\n",
      "Requirement already satisfied: numpy in /Users/chloeloughridge/anaconda/lib/python3.5/site-packages (from imbalanced-learn->imblearn) (1.14.2)\n",
      "Requirement already satisfied: scikit-learn in /Users/chloeloughridge/anaconda/lib/python3.5/site-packages (from imbalanced-learn->imblearn) (0.19.1)\n",
      "\u001b[31msmart-open 1.6.0 requires bz2file, which is not installed.\u001b[0m\n",
      "Installing collected packages: imbalanced-learn, imblearn\n",
      "Successfully installed imbalanced-learn-0.3.3 imblearn-0.0\n",
      "\u001b[33mYou are using pip version 10.0.1, however version 18.0 is available.\n",
      "You should consider upgrading via the 'pip install --upgrade pip' command.\u001b[0m\n"
     ]
    }
   ],
   "source": [
    "# I want to see if SMOTE actually helps anything --> created with VGG data\n",
    "!pip install imblearn\n",
    "from imblearn.over_sampling import SMOTE"
   ]
  },
  {
   "cell_type": "code",
   "execution_count": 63,
   "metadata": {
    "collapsed": true
   },
   "outputs": [],
   "source": [
    "import numpy as np"
   ]
  },
  {
   "cell_type": "code",
   "execution_count": 64,
   "metadata": {
    "collapsed": false
   },
   "outputs": [
    {
     "name": "stdout",
     "output_type": "stream",
     "text": [
      "(212,)\n",
      "(212, 4096)\n"
     ]
    }
   ],
   "source": [
    "# upload the X and Y training data --> VGG data and labels\n",
    "Y = np.load('../Desktop/labels.npy')\n",
    "X = np.load('../Desktop/VGG16_feature_data.npy')\n",
    "\n",
    "# let's just try one movie first\n",
    "X_train = X[0,:,:]\n",
    "# reshape for the sake of the fit function\n",
    "#X_train_reshape = X_train.reshape((1, X_train.shape[0]*X_train.shape[1]))\n",
    "Y_train = Y[0, :212]\n",
    "#Y_train_reshaped = Y_train.reshape((Y_train.shape[0], 1))\n",
    "\n",
    "print(Y_train.shape)\n",
    "print(X_train.shape)"
   ]
  },
  {
   "cell_type": "code",
   "execution_count": 68,
   "metadata": {
    "collapsed": false
   },
   "outputs": [
    {
     "name": "stdout",
     "output_type": "stream",
     "text": [
      "0.0\n",
      "(4096,)\n"
     ]
    }
   ],
   "source": [
    "print(Y_train[4])\n",
    "print(X_train[4].shape)"
   ]
  },
  {
   "cell_type": "code",
   "execution_count": 66,
   "metadata": {
    "collapsed": false
   },
   "outputs": [
    {
     "name": "stdout",
     "output_type": "stream",
     "text": [
      "(1, 304)\n"
     ]
    }
   ],
   "source": [
    "X_resampled = []\n",
    "y_resampled = []\n",
    "X_res_vis = []\n",
    "\n",
    "method = SMOTE('minority')\n",
    "\n",
    "X_res, y_res = method.fit_sample(X_train, Y_train)\n",
    "X_resampled.append(X_res)\n",
    "y_resampled.append(y_res)\n",
    "\n",
    "X_smoted = np.asarray(X_resampled)\n",
    "Y_smoted = np.asarray(y_resampled)\n",
    "\n",
    "print(Y_smoted.shape)"
   ]
  },
  {
   "cell_type": "code",
   "execution_count": 87,
   "metadata": {
    "collapsed": false
   },
   "outputs": [
    {
     "name": "stdout",
     "output_type": "stream",
     "text": [
      "(212, 4096)\n",
      "(212,)\n",
      "(212, 4096)\n",
      "(212,)\n",
      "(212, 4096)\n",
      "(212,)\n",
      "(212, 4096)\n",
      "(212,)\n",
      "(212, 4096)\n",
      "(212,)\n",
      "(212, 4096)\n",
      "(212,)\n",
      "(212, 4096)\n",
      "(212,)\n",
      "0\n"
     ]
    }
   ],
   "source": [
    "# now compiling master arrays to send through the LSTM algorithms\n",
    "num_movies = 7\n",
    "new_timesteps = 420 # the max --> hopefully this doesn't throw anything off too drastically\n",
    "data_dim = 4096\n",
    "X_smote = np.zeros([num_movies, new_timesteps, data_dim])\n",
    "Y_smote = np.zeros([num_movies, new_timesteps])\n",
    "\n",
    "max_timesteps = 0\n",
    "\n",
    "# for each movie, basically do all of the stuff above\n",
    "for num in range(num_movies):\n",
    "    X_train = X[num,:,:]\n",
    "    Y_train = Y[num, :212] #MAGIC NUMBER\n",
    "    \n",
    "    X_resampled = []\n",
    "    y_resampled = []\n",
    "    \n",
    "    method = SMOTE('minority', k_neighbors=1)\n",
    "    \n",
    "    print(X_train.shape)\n",
    "    print(Y_train.shape)\n",
    "\n",
    "    X_res, y_res = method.fit_sample(X_train, Y_train)\n",
    "    X_resampled.append(X_res)\n",
    "    y_resampled.append(y_res)\n",
    "    \n",
    "    X_smoted = np.asarray(X_resampled)\n",
    "    Y_smoted = np.asarray(y_resampled)\n",
    "    \n",
    "    #timesteps = X_smoted[0].shape[0]\n",
    "    #print(timesteps)\n",
    "    #if timesteps > max_timesteps:\n",
    "        #max_timesteps = timesteps\n",
    "    \n",
    "    # slot the resampled arrays back into the master array!\n",
    "    X_smote[num, :X_smoted[0].shape[0], :] = X_smoted[0, :, :]\n",
    "    Y_smote[num, :X_smoted[0].shape[0]] = Y_smoted[0, :]\n",
    "\n",
    "print(max_timesteps)"
   ]
  },
  {
   "cell_type": "code",
   "execution_count": 91,
   "metadata": {
    "collapsed": false
   },
   "outputs": [],
   "source": [
    "np.save('../Desktop/X_smote', X_smote)\n",
    "np.save('../Desktop/Y_smote', Y_smote)"
   ]
  },
  {
   "cell_type": "code",
   "execution_count": null,
   "metadata": {
    "collapsed": true
   },
   "outputs": [],
   "source": [
    "# save the new numpy matrices"
   ]
  }
 ],
 "metadata": {
  "kernelspec": {
   "display_name": "Python [default]",
   "language": "python",
   "name": "python3"
  },
  "language_info": {
   "codemirror_mode": {
    "name": "ipython",
    "version": 3
   },
   "file_extension": ".py",
   "mimetype": "text/x-python",
   "name": "python",
   "nbconvert_exporter": "python",
   "pygments_lexer": "ipython3",
   "version": "3.5.5"
  }
 },
 "nbformat": 4,
 "nbformat_minor": 2
}
