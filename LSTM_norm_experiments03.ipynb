{
 "cells": [
  {
   "cell_type": "code",
   "execution_count": 2,
   "metadata": {
    "collapsed": false
   },
   "outputs": [
    {
     "name": "stderr",
     "output_type": "stream",
     "text": [
      "/Users/chloeloughridge/anaconda/lib/python3.5/importlib/_bootstrap.py:222: RuntimeWarning: compiletime version 3.6 of module 'tensorflow.python.framework.fast_tensor_util' does not match runtime version 3.5\n",
      "  return f(*args, **kwds)\n",
      "Using TensorFlow backend.\n"
     ]
    }
   ],
   "source": [
    "# normalized VGG16 feature data fed into simple LSTM\n",
    "\n",
    "# First, import necessary libraries\n",
    "import tensorflow as tf\n",
    "import numpy as np\n",
    "import keras.backend as K"
   ]
  },
  {
   "cell_type": "code",
   "execution_count": 3,
   "metadata": {
    "collapsed": false
   },
   "outputs": [],
   "source": [
    "# setting up the keras stuff\n",
    "from keras.models import Sequential\n",
    "from keras.layers import Dense, Activation, Flatten, BatchNormalization\n",
    "from keras.layers import LSTM\n",
    "# my custom data_utils file\n",
    "from data_utils_local08 import *"
   ]
  },
  {
   "cell_type": "code",
   "execution_count": 4,
   "metadata": {
    "collapsed": false
   },
   "outputs": [
    {
     "name": "stdout",
     "output_type": "stream",
     "text": [
      "(7, 212, 4096)\n"
     ]
    }
   ],
   "source": [
    "# uploading the X values\n",
    "X_input = np.load('../Desktop/VGG16_feature_data.npy') #VGG16 data\n",
    "#X_input = np.load('VGG16.npy')\n",
    "# X_input = np.load('../Desktop/InceptionResNetV2_feature_data.npy') #resnet data!\n",
    "\n",
    "#X_input = np.load('../Desktop/audio_feature_data.npy') #audio feature data!\n",
    "\n",
    "print(X_input.shape)"
   ]
  },
  {
   "cell_type": "code",
   "execution_count": 5,
   "metadata": {
    "collapsed": false
   },
   "outputs": [
    {
     "name": "stdout",
     "output_type": "stream",
     "text": [
      "(7, 219)\n"
     ]
    }
   ],
   "source": [
    "# uploading the Y values\n",
    "y_data_input = np.load('../Desktop/labels.npy')\n",
    "#y_data_input = np.load('labels.npy')\n",
    "print(y_data_input.shape)"
   ]
  },
  {
   "cell_type": "code",
   "execution_count": 6,
   "metadata": {
    "collapsed": false
   },
   "outputs": [
    {
     "name": "stdout",
     "output_type": "stream",
     "text": [
      "(3, 212, 4096) (4, 212, 4096) (4, 212) (3, 212)\n"
     ]
    }
   ],
   "source": [
    "timesteps = X_input.shape[1]\n",
    "data_dim = X_input.shape[2]\n",
    "\n",
    "X_train = X_input[:4,:timesteps, :]\n",
    "Y_train = y_data_input[:4, :timesteps]\n",
    "\n",
    "X_test = X_input[4:, :timesteps, :]\n",
    "Y_test = y_data_input[4:, :timesteps]\n",
    "\n",
    "print(X_test.shape, X_train.shape, Y_train.shape, Y_test.shape)"
   ]
  },
  {
   "cell_type": "code",
   "execution_count": 7,
   "metadata": {
    "collapsed": false
   },
   "outputs": [],
   "source": [
    "# constructing a many-to-one LSTM model in keras \n",
    "model = Sequential()\n",
    "\n",
    "# normalization\n",
    "model.add(BatchNormalization(input_shape=(timesteps, data_dim)))\n",
    "\n",
    "model.add(LSTM(timesteps, return_sequences=True))\n",
    "#input_shape=(timesteps, data_dim)\n",
    "\n",
    "model.add(Flatten()) \n",
    "# add the final dense layer and then softmax\n",
    "model.add(Dense(timesteps, activation='sigmoid'))\n",
    "# going to add a softmax activation to this\n",
    "#model.add(Activation('softmax'))"
   ]
  },
  {
   "cell_type": "code",
   "execution_count": 8,
   "metadata": {
    "collapsed": true
   },
   "outputs": [],
   "source": [
    "# a new metric of evaluation! the F-score!\n",
    "def FScore2(y_true, y_pred):\n",
    "    '''\n",
    "    The F score, beta=2\n",
    "    '''\n",
    "    B2 = K.variable(4)\n",
    "    OnePlusB2 = K.variable(5)\n",
    "    pred = K.round(y_pred)\n",
    "    tp = K.sum(K.cast(K.less(K.abs(pred - K.clip(y_true, .5, 1.)), 0.01), 'float32'), -1)\n",
    "    fp = K.sum(K.cast(K.greater(pred - y_true, 0.1), 'float32'), -1)\n",
    "    fn = K.sum(K.cast(K.less(pred - y_true, -0.1), 'float32'), -1)\n",
    "\n",
    "    f2 = OnePlusB2 * tp / (OnePlusB2 * tp + B2 * fn + fp)\n",
    "\n",
    "    return K.mean(f2)"
   ]
  },
  {
   "cell_type": "code",
   "execution_count": 9,
   "metadata": {
    "collapsed": true
   },
   "outputs": [],
   "source": [
    "# compiling LSTM model\n",
    "# note that Ng used an Adam optimizer and categorical cross-entropy loss\n",
    "# but this is a binary classification problem so I think the parameters below should suffice\n",
    "model.compile(loss='binary_crossentropy',\n",
    "              optimizer='rmsprop',\n",
    "              metrics=['binary_accuracy', FScore2])"
   ]
  },
  {
   "cell_type": "code",
   "execution_count": 10,
   "metadata": {
    "collapsed": false,
    "scrolled": true
   },
   "outputs": [
    {
     "name": "stdout",
     "output_type": "stream",
     "text": [
      "Train on 4 samples, validate on 3 samples\n",
      "Epoch 1/20\n",
      "4/4 [==============================] - 6s 1s/step - loss: 0.7222 - binary_accuracy: 0.5071 - FScore2: 0.2710 - val_loss: 0.9030 - val_binary_accuracy: 0.6604 - val_FScore2: 0.0684\n",
      "Epoch 2/20\n",
      "4/4 [==============================] - 3s 848ms/step - loss: 0.0107 - binary_accuracy: 1.0000 - FScore2: 1.0000 - val_loss: 1.9315 - val_binary_accuracy: 0.3318 - val_FScore2: 0.5187\n",
      "Epoch 3/20\n",
      "4/4 [==============================] - 4s 892ms/step - loss: 0.0943 - binary_accuracy: 0.9575 - FScore2: 0.8973 - val_loss: 2.6987 - val_binary_accuracy: 0.6148 - val_FScore2: 0.2516\n",
      "Epoch 4/20\n",
      "4/4 [==============================] - 3s 860ms/step - loss: 0.0020 - binary_accuracy: 0.9988 - FScore2: 0.9773 - val_loss: 2.4815 - val_binary_accuracy: 0.6242 - val_FScore2: 0.2516\n",
      "Epoch 5/20\n",
      "4/4 [==============================] - 4s 898ms/step - loss: 2.1068e-05 - binary_accuracy: 1.0000 - FScore2: 1.0000 - val_loss: 2.4731 - val_binary_accuracy: 0.6274 - val_FScore2: 0.2516\n",
      "Epoch 6/20\n",
      "4/4 [==============================] - 4s 962ms/step - loss: 1.7773e-05 - binary_accuracy: 1.0000 - FScore2: 1.0000 - val_loss: 2.4661 - val_binary_accuracy: 0.6258 - val_FScore2: 0.2516\n",
      "Epoch 7/20\n",
      "4/4 [==============================] - 4s 885ms/step - loss: 1.5658e-05 - binary_accuracy: 1.0000 - FScore2: 1.0000 - val_loss: 2.4600 - val_binary_accuracy: 0.6258 - val_FScore2: 0.2516\n",
      "Epoch 8/20\n",
      "4/4 [==============================] - 3s 856ms/step - loss: 1.4102e-05 - binary_accuracy: 1.0000 - FScore2: 1.0000 - val_loss: 2.4545 - val_binary_accuracy: 0.6274 - val_FScore2: 0.2516\n",
      "Epoch 9/20\n",
      "4/4 [==============================] - 4s 1s/step - loss: 1.2876e-05 - binary_accuracy: 1.0000 - FScore2: 1.0000 - val_loss: 2.4495 - val_binary_accuracy: 0.6274 - val_FScore2: 0.2516\n",
      "Epoch 10/20\n",
      "4/4 [==============================] - 3s 865ms/step - loss: 1.1867e-05 - binary_accuracy: 1.0000 - FScore2: 1.0000 - val_loss: 2.4447 - val_binary_accuracy: 0.6274 - val_FScore2: 0.2516\n",
      "Epoch 11/20\n",
      "4/4 [==============================] - 3s 858ms/step - loss: 1.1012e-05 - binary_accuracy: 1.0000 - FScore2: 1.0000 - val_loss: 2.4403 - val_binary_accuracy: 0.6274 - val_FScore2: 0.2516\n",
      "Epoch 12/20\n",
      "4/4 [==============================] - 3s 862ms/step - loss: 1.0272e-05 - binary_accuracy: 1.0000 - FScore2: 1.0000 - val_loss: 2.4360 - val_binary_accuracy: 0.6289 - val_FScore2: 0.2516\n",
      "Epoch 13/20\n",
      "4/4 [==============================] - 4s 895ms/step - loss: 9.6226e-06 - binary_accuracy: 1.0000 - FScore2: 1.0000 - val_loss: 2.4320 - val_binary_accuracy: 0.6289 - val_FScore2: 0.2516\n",
      "Epoch 14/20\n",
      "4/4 [==============================] - 5s 1s/step - loss: 9.0419e-06 - binary_accuracy: 1.0000 - FScore2: 1.0000 - val_loss: 2.4281 - val_binary_accuracy: 0.6289 - val_FScore2: 0.2516\n",
      "Epoch 15/20\n",
      "4/4 [==============================] - 4s 999ms/step - loss: 8.5208e-06 - binary_accuracy: 1.0000 - FScore2: 1.0000 - val_loss: 2.4243 - val_binary_accuracy: 0.6289 - val_FScore2: 0.2516\n",
      "Epoch 16/20\n",
      "4/4 [==============================] - 4s 1s/step - loss: 8.0473e-06 - binary_accuracy: 1.0000 - FScore2: 1.0000 - val_loss: 2.4207 - val_binary_accuracy: 0.6289 - val_FScore2: 0.2516\n",
      "Epoch 17/20\n",
      "4/4 [==============================] - 4s 973ms/step - loss: 7.6161e-06 - binary_accuracy: 1.0000 - FScore2: 1.0000 - val_loss: 2.4172 - val_binary_accuracy: 0.6289 - val_FScore2: 0.2516\n",
      "Epoch 18/20\n",
      "4/4 [==============================] - 4s 991ms/step - loss: 7.2199e-06 - binary_accuracy: 1.0000 - FScore2: 1.0000 - val_loss: 2.4137 - val_binary_accuracy: 0.6289 - val_FScore2: 0.2516\n",
      "Epoch 19/20\n",
      "4/4 [==============================] - 4s 1s/step - loss: 6.8544e-06 - binary_accuracy: 1.0000 - FScore2: 1.0000 - val_loss: 2.4104 - val_binary_accuracy: 0.6289 - val_FScore2: 0.2516\n",
      "Epoch 20/20\n",
      "4/4 [==============================] - 4s 878ms/step - loss: 6.5162e-06 - binary_accuracy: 1.0000 - FScore2: 1.0000 - val_loss: 2.4072 - val_binary_accuracy: 0.6305 - val_FScore2: 0.2516\n",
      "finished training!\n"
     ]
    }
   ],
   "source": [
    "# running the LSTM model\n",
    "model.fit(X_train, Y_train, epochs = 20, batch_size = 128, validation_data=(X_test, Y_test))\n",
    "print(\"finished training!\")"
   ]
  },
  {
   "cell_type": "code",
   "execution_count": 11,
   "metadata": {
    "collapsed": false
   },
   "outputs": [],
   "source": [
    "model.save('./VGG16_norm_lstm')"
   ]
  },
  {
   "cell_type": "code",
   "execution_count": 29,
   "metadata": {
    "collapsed": false
   },
   "outputs": [
    {
     "name": "stdout",
     "output_type": "stream",
     "text": [
      "model prediction:\n",
      "[1.0000000e+00 1.0000000e+00 1.0000000e+00 1.0000000e+00 1.0000000e+00\n",
      " 1.9221041e-28 1.0000000e+00 1.0000000e+00 1.0000000e+00 1.0000000e+00\n",
      " 1.0000000e+00 1.0000000e+00 1.0000000e+00 1.0000000e+00 1.0000000e+00\n",
      " 1.0000000e+00 1.0000000e+00 1.0000000e+00 1.0000000e+00 1.0000000e+00\n",
      " 1.0000000e+00 1.0000000e+00 1.0000000e+00 1.0000000e+00 1.0000000e+00\n",
      " 1.0000000e+00 1.0000000e+00 1.0000000e+00 1.0000000e+00 2.1595651e-19\n",
      " 1.0000000e+00 1.0000000e+00 2.3602658e-26 1.0000000e+00 1.0000000e+00\n",
      " 4.4973351e-18 3.1209957e-32 1.9935814e-32 3.3743915e-34 1.0000000e+00\n",
      " 1.0000000e+00 2.1284409e-12 1.6664713e-14 1.0000000e+00 1.0000000e+00\n",
      " 1.0000000e+00 1.0000000e+00 1.7663178e-08 1.0000000e+00 1.0000000e+00\n",
      " 1.0000000e+00 1.0000000e+00 2.7702462e-30 2.5049629e-30 1.0000000e+00\n",
      " 2.6652263e-31 4.6479136e-31 2.5350656e-34 4.2515438e-35 4.0209436e-32\n",
      " 1.0000000e+00 9.4842254e-15 1.0000000e+00 1.4375714e-11 1.0000000e+00\n",
      " 1.0000000e+00 1.0000000e+00 1.0000000e+00 1.0000000e+00 1.8088938e-24\n",
      " 1.0000000e+00 6.0328166e-31 1.0000000e+00 1.0000000e+00 1.0000000e+00\n",
      " 1.0000000e+00 1.0000000e+00 1.0000000e+00 1.0000000e+00 1.0000000e+00\n",
      " 1.0000000e+00 1.0000000e+00 1.0000000e+00 1.0000000e+00 1.0000000e+00\n",
      " 1.0000000e+00 1.0000000e+00 1.0000000e+00 1.0000000e+00 1.0000000e+00\n",
      " 1.0000000e+00 1.0000000e+00 1.0000000e+00 1.0000000e+00 1.0000000e+00\n",
      " 1.0000000e+00 5.4377756e-24 2.0324037e-26 2.3054504e-33 1.0000000e+00\n",
      " 1.0000000e+00 1.0000000e+00 1.0000000e+00 1.0000000e+00 1.0000000e+00\n",
      " 1.0000000e+00 1.0000000e+00 1.0000000e+00 1.0000000e+00 1.0000000e+00\n",
      " 3.2671697e-33 1.0000000e+00 1.0000000e+00 1.0000000e+00 1.0000000e+00\n",
      " 1.0000000e+00 1.0000000e+00 1.0000000e+00 1.0000000e+00 1.0000000e+00\n",
      " 1.0000000e+00 1.0000000e+00 1.0000000e+00 3.5934445e-20 1.0000000e+00\n",
      " 1.0000000e+00 1.0000000e+00 1.0000000e+00 1.0000000e+00 1.0000000e+00\n",
      " 1.0000000e+00 1.0000000e+00 1.0000000e+00 1.0000000e+00 1.0000000e+00\n",
      " 1.0000000e+00 1.0000000e+00 1.0000000e+00 1.0000000e+00 1.0000000e+00\n",
      " 1.0000000e+00 1.0000000e+00 1.0000000e+00 1.0000000e+00 1.0000000e+00\n",
      " 1.0000000e+00 1.0000000e+00 2.7788974e-27 1.0000000e+00 1.0000000e+00\n",
      " 1.0000000e+00 1.0000000e+00 1.0000000e+00 9.1861849e-23 1.0000000e+00\n",
      " 1.0000000e+00 1.0000000e+00 1.0000000e+00 1.0000000e+00 1.0000000e+00\n",
      " 2.3497778e-22 1.0000000e+00 1.0000000e+00 1.0000000e+00 1.0000000e+00\n",
      " 1.0000000e+00 1.0000000e+00 1.0000000e+00 1.2417668e-27 1.0000000e+00\n",
      " 1.0000000e+00 1.0000000e+00 1.0000000e+00 1.0000000e+00 1.0000000e+00\n",
      " 1.0000000e+00 1.0000000e+00 1.0000000e+00 1.0000000e+00 1.0000000e+00\n",
      " 1.0000000e+00 1.0000000e+00 1.0000000e+00 1.0000000e+00 1.0000000e+00\n",
      " 1.0000000e+00 1.0000000e+00 1.0000000e+00 1.0000000e+00 1.0000000e+00\n",
      " 1.0000000e+00 1.0000000e+00 1.0000000e+00 1.0000000e+00 4.2949742e-33\n",
      " 1.0000000e+00 1.0000000e+00 1.0000000e+00 1.0000000e+00 1.0000000e+00\n",
      " 1.0000000e+00 1.0000000e+00 1.0000000e+00 1.0000000e+00 1.0000000e+00\n",
      " 1.0679519e-22 1.0000000e+00]\n",
      "target:\n",
      "[0. 0. 0. 0. 0. 0. 0. 0. 0. 0. 0. 0. 0. 0. 0. 0. 0. 0. 0. 0. 0. 0. 0. 0.\n",
      " 0. 0. 0. 0. 0. 0. 0. 0. 0. 0. 0. 0. 0. 0. 0. 0. 0. 0. 0. 0. 0. 0. 0. 0.\n",
      " 0. 0. 0. 0. 1. 1. 1. 1. 1. 1. 1. 1. 0. 0. 0. 0. 0. 0. 0. 0. 0. 1. 1. 1.\n",
      " 1. 1. 0. 0. 0. 0. 0. 0. 1. 1. 1. 1. 1. 0. 0. 0. 0. 0. 0. 0. 0. 0. 0. 0.\n",
      " 1. 1. 1. 0. 0. 0. 0. 0. 0. 0. 0. 0. 0. 0. 0. 0. 0. 0. 0. 0. 0. 0. 0. 0.\n",
      " 0. 0. 0. 0. 0. 0. 0. 0. 0. 0. 0. 0. 0. 0. 0. 0. 0. 0. 0. 0. 0. 0. 0. 0.\n",
      " 0. 0. 0. 0. 0. 0. 0. 0. 0. 0. 0. 0. 0. 0. 0. 0. 0. 0. 0. 0. 0. 0. 0. 0.\n",
      " 0. 0. 0. 0. 0. 0. 0. 0. 0. 0. 0. 0. 0. 0. 0. 0. 0. 0. 0. 0. 0. 0. 0. 0.\n",
      " 0. 0. 0. 0. 0. 0. 0. 0. 0. 0. 0. 0. 0. 0. 0.]\n",
      "before 64:\n",
      "1.4375714e-11\n",
      "64:\n",
      "1.0\n",
      "rounded\n",
      "[1. 1. 1. 1. 1. 0. 1. 1. 1. 1. 1. 1. 1. 1. 1. 1. 1. 1. 1. 1. 1. 1. 1. 1.\n",
      " 1. 1. 1. 1. 1. 0. 1. 1. 0. 1. 1. 0. 0. 0. 0. 1. 1. 0. 0. 1. 1. 1. 1. 0.\n",
      " 1. 1. 1. 1. 0. 0. 1. 0. 0. 0. 0. 0. 1. 0. 1. 0. 1. 1. 1. 1. 1. 0. 1. 0.\n",
      " 1. 1. 1. 1. 1. 1. 1. 1. 1. 1. 1. 1. 1. 1. 1. 1. 1. 1. 1. 1. 1. 1. 1. 1.\n",
      " 0. 0. 0. 1. 1. 1. 1. 1. 1. 1. 1. 1. 1. 1. 0. 1. 1. 1. 1. 1. 1. 1. 1. 1.\n",
      " 1. 1. 1. 0. 1. 1. 1. 1. 1. 1. 1. 1. 1. 1. 1. 1. 1. 1. 1. 1. 1. 1. 1. 1.\n",
      " 1. 1. 1. 0. 1. 1. 1. 1. 1. 0. 1. 1. 1. 1. 1. 1. 0. 1. 1. 1. 1. 1. 1. 1.\n",
      " 0. 1. 1. 1. 1. 1. 1. 1. 1. 1. 1. 1. 1. 1. 1. 1. 1. 1. 1. 1. 1. 1. 1. 1.\n",
      " 1. 1. 0. 1. 1. 1. 1. 1. 1. 1. 1. 1. 1. 0. 1.]\n"
     ]
    }
   ],
   "source": [
    "# trying to view the model output\n",
    "out = model.predict(X_train)\n",
    "\n",
    "movie_index = 1\n",
    "\n",
    "print(\"model prediction:\")\n",
    "print(out[movie_index])\n",
    "print(\"target:\")\n",
    "print(Y_train[movie_index])\n",
    "\n",
    "print(\"before 64:\")\n",
    "print(out[movie_index][63])\n",
    "print(\"64:\")\n",
    "print(out[movie_index][65])\n",
    "\n",
    "print(\"rounded\")\n",
    "print(np.round(out)[movie_index])"
   ]
  },
  {
   "cell_type": "code",
   "execution_count": null,
   "metadata": {
    "collapsed": true
   },
   "outputs": [],
   "source": []
  },
  {
   "cell_type": "code",
   "execution_count": null,
   "metadata": {
    "collapsed": true
   },
   "outputs": [],
   "source": []
  }
 ],
 "metadata": {
  "anaconda-cloud": {},
  "kernelspec": {
   "display_name": "Python [default]",
   "language": "python",
   "name": "python3"
  },
  "language_info": {
   "codemirror_mode": {
    "name": "ipython",
    "version": 3
   },
   "file_extension": ".py",
   "mimetype": "text/x-python",
   "name": "python",
   "nbconvert_exporter": "python",
   "pygments_lexer": "ipython3",
   "version": "3.5.5"
  }
 },
 "nbformat": 4,
 "nbformat_minor": 2
}
