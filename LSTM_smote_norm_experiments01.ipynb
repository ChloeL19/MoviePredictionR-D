{
 "cells": [
  {
   "cell_type": "code",
   "execution_count": 8,
   "metadata": {
    "collapsed": false
   },
   "outputs": [],
   "source": [
    "# normalized VGG feature data that has been smoted and sent through simple LSTM\n",
    "\n",
    "\n",
    "# First, import necessary libraries\n",
    "import tensorflow as tf\n",
    "import numpy as np\n",
    "import keras.backend as K"
   ]
  },
  {
   "cell_type": "code",
   "execution_count": 9,
   "metadata": {
    "collapsed": false
   },
   "outputs": [],
   "source": [
    "# setting up the keras stuff\n",
    "from keras.models import Sequential\n",
    "from keras.layers import Dense, Activation, Flatten, BatchNormalization\n",
    "from keras.layers import LSTM\n",
    "# my custom data_utils file\n",
    "from data_utils_local08 import *"
   ]
  },
  {
   "cell_type": "code",
   "execution_count": 27,
   "metadata": {
    "collapsed": false
   },
   "outputs": [],
   "source": [
    "# loading the smoted training data\n",
    "X_smote = np.load('../Desktop/X_smote.npy')\n",
    "Y_smote = np.load('../Desktop/Y_smote.npy')\n",
    "\n",
    "X_smote_train = X_smote[:4, :, :]\n",
    "Y_smote_train = Y_smote[:4, :]\n",
    "X_smote_test = X_smote[4:, :, :]\n",
    "Y_smote_test = Y_smote[4:, :]"
   ]
  },
  {
   "cell_type": "code",
   "execution_count": null,
   "metadata": {
    "collapsed": true
   },
   "outputs": [],
   "source": [
    "# important vars\n",
    "timesteps = X_smote_train.shape[1]\n",
    "data_dim = X_smote_train.shape[2]"
   ]
  },
  {
   "cell_type": "code",
   "execution_count": 19,
   "metadata": {
    "collapsed": false
   },
   "outputs": [
    {
     "name": "stdout",
     "output_type": "stream",
     "text": [
      "(3, 420, 4096)\n",
      "(3, 420)\n"
     ]
    }
   ],
   "source": [
    "X_reg = np.load('../Desktop/VGG16_feature_data.npy')\n",
    "Y_reg = np.load('../Desktop/labels.npy')\n",
    "\n",
    "X_test = np.zeros([3, timesteps, data_dim])\n",
    "Y_test = np.zeros([3, timesteps])\n",
    "\n",
    "X_test[:, :X_reg.shape[1], :] = X_reg[4:, :, :]\n",
    "Y_test[:, :X_reg.shape[1]] = Y_reg[4:, :212]\n",
    "\n",
    "print(X_test.shape)\n",
    "print(Y_test.shape)"
   ]
  },
  {
   "cell_type": "code",
   "execution_count": 20,
   "metadata": {
    "collapsed": false
   },
   "outputs": [],
   "source": [
    "# constructing a many-to-one LSTM model in keras --> inspiration: https://stackoverflow.com/questions/43034960/many-to-one-and-many-to-many-lstm-examples-in-keras\n",
    "# i will start by training a model on only the VGG16 fc6 layer output (that's just one feature)\n",
    "# should I eventually abstract this LSTM model? Create its own object file?\n",
    "model = Sequential()\n",
    "\n",
    "# normalization\n",
    "model.add(BatchNormalization(input_shape=(timesteps, data_dim)))\n",
    "\n",
    "model.add(LSTM(timesteps, return_sequences=True))\n",
    "#input_shape=(timesteps, data_dim)\n",
    "\n",
    "# going to try adding a flatten layer in here\n",
    "model.add(Flatten()) # I got this from a github thing, but I still don't completely understand why it works\n",
    "# add the final dense layer and then softmax\n",
    "model.add(Dense(timesteps, activation='sigmoid'))\n",
    "# going to add a softmax activation to this\n",
    "#model.add(Activation('softmax'))"
   ]
  },
  {
   "cell_type": "code",
   "execution_count": 21,
   "metadata": {
    "collapsed": true
   },
   "outputs": [],
   "source": [
    "# a new metric of evaluation! the F-score!\n",
    "def FScore2(y_true, y_pred):\n",
    "    '''\n",
    "    The F score, beta=2\n",
    "    '''\n",
    "    B2 = K.variable(4)\n",
    "    OnePlusB2 = K.variable(5)\n",
    "    pred = K.round(y_pred)\n",
    "    tp = K.sum(K.cast(K.less(K.abs(pred - K.clip(y_true, .5, 1.)), 0.01), 'float32'), -1)\n",
    "    fp = K.sum(K.cast(K.greater(pred - y_true, 0.1), 'float32'), -1)\n",
    "    fn = K.sum(K.cast(K.less(pred - y_true, -0.1), 'float32'), -1)\n",
    "\n",
    "    f2 = OnePlusB2 * tp / (OnePlusB2 * tp + B2 * fn + fp)\n",
    "\n",
    "    return K.mean(f2)"
   ]
  },
  {
   "cell_type": "code",
   "execution_count": 28,
   "metadata": {
    "collapsed": true
   },
   "outputs": [],
   "source": [
    "# compiling LSTM model\n",
    "# note that Ng used an Adam optimizer and categorical cross-entropy loss\n",
    "# but this is a binary classification problem so I think the parameters below should suffice\n",
    "model.compile(loss='binary_crossentropy',\n",
    "              optimizer='rmsprop',\n",
    "              metrics=['binary_accuracy', FScore2])"
   ]
  },
  {
   "cell_type": "code",
   "execution_count": 29,
   "metadata": {
    "collapsed": false
   },
   "outputs": [
    {
     "name": "stdout",
     "output_type": "stream",
     "text": [
      "Train on 4 samples, validate on 3 samples\n",
      "Epoch 1/20\n",
      "4/4 [==============================] - 30s 7s/step - loss: 4.6563e-07 - binary_accuracy: 1.0000 - FScore2: 1.0000 - val_loss: 4.6424 - val_binary_accuracy: 0.6810 - val_FScore2: 0.5867\n",
      "Epoch 2/20\n",
      "4/4 [==============================] - 20s 5s/step - loss: 1.0916e-07 - binary_accuracy: 1.0000 - FScore2: 1.0000 - val_loss: 4.6423 - val_binary_accuracy: 0.6810 - val_FScore2: 0.5867\n",
      "Epoch 3/20\n",
      "4/4 [==============================] - 20s 5s/step - loss: 1.0904e-07 - binary_accuracy: 1.0000 - FScore2: 1.0000 - val_loss: 4.6422 - val_binary_accuracy: 0.6810 - val_FScore2: 0.5867\n",
      "Epoch 4/20\n",
      "4/4 [==============================] - 18s 5s/step - loss: 1.0896e-07 - binary_accuracy: 1.0000 - FScore2: 1.0000 - val_loss: 4.6422 - val_binary_accuracy: 0.6810 - val_FScore2: 0.5867\n",
      "Epoch 5/20\n",
      "4/4 [==============================] - 17s 4s/step - loss: 1.0891e-07 - binary_accuracy: 1.0000 - FScore2: 1.0000 - val_loss: 4.6421 - val_binary_accuracy: 0.6810 - val_FScore2: 0.5867\n",
      "Epoch 6/20\n",
      "4/4 [==============================] - 19s 5s/step - loss: 1.0888e-07 - binary_accuracy: 1.0000 - FScore2: 1.0000 - val_loss: 4.6421 - val_binary_accuracy: 0.6810 - val_FScore2: 0.5867\n",
      "Epoch 7/20\n",
      "4/4 [==============================] - 18s 5s/step - loss: 1.0885e-07 - binary_accuracy: 1.0000 - FScore2: 1.0000 - val_loss: 4.6421 - val_binary_accuracy: 0.6810 - val_FScore2: 0.5867\n",
      "Epoch 8/20\n",
      "4/4 [==============================] - 18s 5s/step - loss: 1.0883e-07 - binary_accuracy: 1.0000 - FScore2: 1.0000 - val_loss: 4.6421 - val_binary_accuracy: 0.6810 - val_FScore2: 0.5867\n",
      "Epoch 9/20\n",
      "4/4 [==============================] - 19s 5s/step - loss: 1.0882e-07 - binary_accuracy: 1.0000 - FScore2: 1.0000 - val_loss: 4.6421 - val_binary_accuracy: 0.6810 - val_FScore2: 0.5867\n",
      "Epoch 10/20\n",
      "4/4 [==============================] - 19s 5s/step - loss: 1.0880e-07 - binary_accuracy: 1.0000 - FScore2: 1.0000 - val_loss: 4.6421 - val_binary_accuracy: 0.6810 - val_FScore2: 0.5867\n",
      "Epoch 11/20\n",
      "4/4 [==============================] - 21s 5s/step - loss: 1.0879e-07 - binary_accuracy: 1.0000 - FScore2: 1.0000 - val_loss: 4.6420 - val_binary_accuracy: 0.6810 - val_FScore2: 0.5867\n",
      "Epoch 12/20\n",
      "4/4 [==============================] - 20s 5s/step - loss: 1.0878e-07 - binary_accuracy: 1.0000 - FScore2: 1.0000 - val_loss: 4.6420 - val_binary_accuracy: 0.6810 - val_FScore2: 0.5867\n",
      "Epoch 13/20\n",
      "4/4 [==============================] - 21s 5s/step - loss: 1.0878e-07 - binary_accuracy: 1.0000 - FScore2: 1.0000 - val_loss: 4.6420 - val_binary_accuracy: 0.6810 - val_FScore2: 0.5867\n",
      "Epoch 14/20\n",
      "4/4 [==============================] - 19s 5s/step - loss: 1.0877e-07 - binary_accuracy: 1.0000 - FScore2: 1.0000 - val_loss: 4.6420 - val_binary_accuracy: 0.6810 - val_FScore2: 0.5867\n",
      "Epoch 15/20\n",
      "4/4 [==============================] - 21s 5s/step - loss: 1.0876e-07 - binary_accuracy: 1.0000 - FScore2: 1.0000 - val_loss: 4.6420 - val_binary_accuracy: 0.6810 - val_FScore2: 0.5867\n",
      "Epoch 16/20\n",
      "4/4 [==============================] - 22s 5s/step - loss: 1.0876e-07 - binary_accuracy: 1.0000 - FScore2: 1.0000 - val_loss: 4.6420 - val_binary_accuracy: 0.6810 - val_FScore2: 0.5867\n",
      "Epoch 17/20\n",
      "4/4 [==============================] - 21s 5s/step - loss: 1.0875e-07 - binary_accuracy: 1.0000 - FScore2: 1.0000 - val_loss: 4.6420 - val_binary_accuracy: 0.6810 - val_FScore2: 0.5867\n",
      "Epoch 18/20\n",
      "4/4 [==============================] - 21s 5s/step - loss: 1.0875e-07 - binary_accuracy: 1.0000 - FScore2: 1.0000 - val_loss: 4.6420 - val_binary_accuracy: 0.6810 - val_FScore2: 0.5867\n",
      "Epoch 19/20\n",
      "4/4 [==============================] - 20s 5s/step - loss: 1.0874e-07 - binary_accuracy: 1.0000 - FScore2: 1.0000 - val_loss: 4.6420 - val_binary_accuracy: 0.6810 - val_FScore2: 0.5867\n",
      "Epoch 20/20\n",
      "4/4 [==============================] - 21s 5s/step - loss: 1.0874e-07 - binary_accuracy: 1.0000 - FScore2: 1.0000 - val_loss: 4.6420 - val_binary_accuracy: 0.6810 - val_FScore2: 0.5867\n",
      "finished training!\n"
     ]
    }
   ],
   "source": [
    "# running the LSTM model\n",
    "model.fit(X_smote_train, Y_smote_train, epochs = 20, validation_data=(X_smote_test, Y_smote_test))\n",
    "print(\"finished training!\")"
   ]
  },
  {
   "cell_type": "code",
   "execution_count": null,
   "metadata": {
    "collapsed": false
   },
   "outputs": [],
   "source": [
    "# trying to view the model output\n",
    "out = model.predict(X_train_data)\n",
    "print(\"model prediction:\")\n",
    "print(out[0])\n",
    "print(\"target:\")\n",
    "print(Y_train_data[0])\n",
    "\n",
    "print(\"before 64:\")\n",
    "print(out[0][63])\n",
    "print(\"64:\")\n",
    "print(out[0][65])\n",
    "\n",
    "print(\"rounded\")\n",
    "print(np.round(out)[0])"
   ]
  },
  {
   "cell_type": "code",
   "execution_count": null,
   "metadata": {
    "collapsed": true
   },
   "outputs": [],
   "source": [
    "#try visualizing this model at some point?"
   ]
  },
  {
   "cell_type": "code",
   "execution_count": null,
   "metadata": {
    "collapsed": true
   },
   "outputs": [],
   "source": []
  }
 ],
 "metadata": {
  "anaconda-cloud": {},
  "kernelspec": {
   "display_name": "Python [default]",
   "language": "python",
   "name": "python3"
  },
  "language_info": {
   "codemirror_mode": {
    "name": "ipython",
    "version": 3
   },
   "file_extension": ".py",
   "mimetype": "text/x-python",
   "name": "python",
   "nbconvert_exporter": "python",
   "pygments_lexer": "ipython3",
   "version": "3.5.5"
  }
 },
 "nbformat": 4,
 "nbformat_minor": 2
}
