{
 "cells": [
  {
   "cell_type": "code",
   "execution_count": 2,
   "metadata": {
    "collapsed": true
   },
   "outputs": [],
   "source": [
    "# this notebook loads each movie's frames into the X_input matrix\n",
    "\n",
    "# boilerplate\n",
    "import cv2\n",
    "import numpy as np\n",
    "import os\n",
    "from data_utils_local08 import *"
   ]
  },
  {
   "cell_type": "code",
   "execution_count": 4,
   "metadata": {
    "collapsed": false
   },
   "outputs": [
    {
     "name": "stdout",
     "output_type": "stream",
     "text": [
      "6298\n",
      "640\n",
      "360\n"
     ]
    }
   ],
   "source": [
    "# determine the number of frames in the longest movie\n",
    "# also figure out the max width and height of each frame\n",
    "num_movies = 7\n",
    "num_frames = 0\n",
    "max_width = 0\n",
    "max_height = 0\n",
    "\n",
    "for num in range(num_movies):\n",
    "    if (7 + num) < 10:\n",
    "        path = os.path.join(\"data_movies/MEDIAEVAL18_0{}.mp4\".format(7 + num))\n",
    "    else:\n",
    "        path = os.path.join(\"data_movies/MEDIAEVAL18_{}.mp4\".format(7 + num))\n",
    "    vidcap = cv2.VideoCapture(path)\n",
    "    \n",
    "    mov_frames = int(vidcap.get(cv2.CAP_PROP_FRAME_COUNT))\n",
    "    frm_width = int(vidcap.get(cv2.CAP_PROP_FRAME_WIDTH))\n",
    "    frm_height = int(vidcap.get(cv2.CAP_PROP_FRAME_HEIGHT))\n",
    "    if (mov_frames > num_frames):\n",
    "        num_frames = mov_frames\n",
    "    if (frm_width > max_width):\n",
    "        max_width = frm_width\n",
    "    if (frm_height > max_height):\n",
    "        max_height = frm_height\n",
    "        \n",
    "print(num_frames)\n",
    "print(max_width)\n",
    "print(max_height)"
   ]
  },
  {
   "cell_type": "code",
   "execution_count": null,
   "metadata": {
    "collapsed": false
   },
   "outputs": [],
   "source": [
    "# now for creating the data matrix\n",
    "\n",
    "# let's start testing small\n",
    "num_movies = 7\n",
    "\n",
    "# the master matrix\n",
    "X_input = np.zeros([num_movies, num_frames,  max_height, max_width, 3])\n",
    "\n",
    "\n",
    "# for each movie\n",
    "for num in range(num_movies):\n",
    "    if (7 + num) < 10:\n",
    "        path = os.path.join(\"data_movies/MEDIAEVAL18_0{}.mp4\".format(7 + num))\n",
    "    else:\n",
    "        path = os.path.join(\"data_movies/MEDIAEVAL18_{}.mp4\".format(7 + num))\n",
    "    vidcap = cv2.VideoCapture(path) \n",
    "\n",
    "    success, image = vidcap.read()\n",
    "    # count may need to be started outside of the loop that runs through all of the videos\n",
    "    count = 0\n",
    "    while success:\n",
    "        # add the image to the X_input_test array\n",
    "        X_input[num, count, :, :, :] = image[:, :, :]\n",
    "        # read the next image from video file\n",
    "        success, image = vidcap.read()\n",
    "        count = count + 1\n",
    "\n",
    "print(count)\n",
    "#print(X_input)"
   ]
  },
  {
   "cell_type": "code",
   "execution_count": 17,
   "metadata": {
    "collapsed": false
   },
   "outputs": [
    {
     "name": "stdout",
     "output_type": "stream",
     "text": [
      "[[59. 54. 46.]\n",
      " [63. 57. 52.]\n",
      " [64. 59. 51.]\n",
      " ...\n",
      " [23. 26. 26.]\n",
      " [27. 30. 30.]\n",
      " [28. 31. 31.]]\n"
     ]
    }
   ],
   "source": [
    "print(X_input[3][2005])"
   ]
  },
  {
   "cell_type": "code",
   "execution_count": 18,
   "metadata": {
    "collapsed": false
   },
   "outputs": [],
   "source": [
    "# overwrite the existing .npy file\n",
    "np.save('./pixel_data_full', X_input)"
   ]
  },
  {
   "cell_type": "code",
   "execution_count": null,
   "metadata": {
    "collapsed": true
   },
   "outputs": [],
   "source": []
  }
 ],
 "metadata": {
  "anaconda-cloud": {},
  "kernelspec": {
   "display_name": "Python [default]",
   "language": "python",
   "name": "python3"
  },
  "language_info": {
   "codemirror_mode": {
    "name": "ipython",
    "version": 3
   },
   "file_extension": ".py",
   "mimetype": "text/x-python",
   "name": "python",
   "nbconvert_exporter": "python",
   "pygments_lexer": "ipython3",
   "version": "3.5.5"
  }
 },
 "nbformat": 4,
 "nbformat_minor": 2
}
